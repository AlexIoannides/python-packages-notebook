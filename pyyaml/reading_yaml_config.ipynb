{
 "cells": [
  {
   "cell_type": "markdown",
   "metadata": {},
   "source": [
    "# Reading YAML using PyYAML\n",
    "\n",
    "With a focus on how YAML configuration manifests in Python after it has been parsed."
   ]
  },
  {
   "cell_type": "markdown",
   "metadata": {},
   "source": [
    "## Imports"
   ]
  },
  {
   "cell_type": "code",
   "execution_count": 1,
   "metadata": {},
   "outputs": [],
   "source": [
    "import yaml"
   ]
  },
  {
   "cell_type": "markdown",
   "metadata": {},
   "source": [
    "## Read YAML Config File\n",
    "\n",
    "This is an experimental configuration file for [bodywork-core](https://github.com/bodywork-ml/bodywork-core), which is located in this directory as `bodywork.yaml`."
   ]
  },
  {
   "cell_type": "code",
   "execution_count": 2,
   "metadata": {},
   "outputs": [],
   "source": [
    "with open('bodywork.yaml') as f:\n",
    "    config = yaml.load(f, Loader=yaml.SafeLoader)"
   ]
  },
  {
   "cell_type": "markdown",
   "metadata": {},
   "source": [
    "# Inspecting the Parsed Config Data"
   ]
  },
  {
   "cell_type": "code",
   "execution_count": 3,
   "metadata": {},
   "outputs": [
    {
     "data": {
      "text/plain": [
       "dict"
      ]
     },
     "execution_count": 3,
     "metadata": {},
     "output_type": "execute_result"
    }
   ],
   "source": [
    "type(config)"
   ]
  },
  {
   "cell_type": "code",
   "execution_count": 4,
   "metadata": {},
   "outputs": [
    {
     "data": {
      "text/plain": [
       "{'version': 1.0,\n",
       " 'project': {'name': 'bodywork-ml-pipeline-project',\n",
       "  'docker_image': 'bodyworkml/bodywork-core:latest',\n",
       "  'log_level': 'INFO',\n",
       "  'dag': 'stage-1-train-model >> stage-2-scoring-service'},\n",
       " 'stages': [{'stage-1-train-model': {'executable': 'train_model.py',\n",
       "    'cpu_request': 0.5,\n",
       "    'memory_request': 100,\n",
       "    'batch': {'max_completion_time_seconds': 30, 'retries': 2},\n",
       "    'requirements': ['boto3==1.16.15',\n",
       "     'joblib==0.17.0',\n",
       "     'pandas==1.1.4',\n",
       "     'scikit-learn==0.23.2']}},\n",
       "  {'stage-2-scoring-service': {'executable': 'serve_model.py',\n",
       "    'cpu_request': 0.5,\n",
       "    'memory_request': 100,\n",
       "    'service': {'max_startup_time_seconds': 30,\n",
       "     'replicas': 2,\n",
       "     'port': 5000,\n",
       "     'ingress': True},\n",
       "    'requirements': ['Flask==1.1.2',\n",
       "     'joblib==0.17.0',\n",
       "     'numpy==1.19.4',\n",
       "     'scikit-learn==0.23.2'],\n",
       "    'secrets': [{'USERNAME': 'my-credentials'},\n",
       "     {'PASSWORD': 'my-credentials'}]}}]}"
      ]
     },
     "execution_count": 4,
     "metadata": {},
     "output_type": "execute_result"
    }
   ],
   "source": [
    "config"
   ]
  },
  {
   "cell_type": "code",
   "execution_count": null,
   "metadata": {},
   "outputs": [],
   "source": []
  }
 ],
 "metadata": {
  "kernelspec": {
   "display_name": "Python 3",
   "language": "python",
   "name": "python3"
  },
  "language_info": {
   "codemirror_mode": {
    "name": "ipython",
    "version": 3
   },
   "file_extension": ".py",
   "mimetype": "text/x-python",
   "name": "python",
   "nbconvert_exporter": "python",
   "pygments_lexer": "ipython3",
   "version": "3.9.0"
  }
 },
 "nbformat": 4,
 "nbformat_minor": 4
}
